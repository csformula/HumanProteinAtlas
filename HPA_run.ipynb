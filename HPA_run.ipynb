{
 "cells": [
  {
   "cell_type": "markdown",
   "metadata": {},
   "source": [
    "# Human Protein Atlas Image Classification\n",
    "- 数据分布高度不平衡，自定义focal loss\n",
    "- 使用了大量数据分析功能\n",
    "- 多目标分类，迁移学习，训练采用k折交叉验证\n",
    "- 使用macro F1 score作为精度标准\n",
    "- 存取ckeckpoint文件"
   ]
  },
  {
   "cell_type": "markdown",
   "metadata": {},
   "source": [
    "### 1.导入所需库"
   ]
  },
  {
   "cell_type": "code",
   "execution_count": 1,
   "metadata": {},
   "outputs": [
    {
     "data": {
      "text/plain": [
       "['.ipynb_checkpoints',\n",
       " 'checkpoint',\n",
       " 'HPA_dataset.py',\n",
       " 'HPA_run.ipynb',\n",
       " 'model_and_loss.py',\n",
       " 'mysub.csv',\n",
       " 'originaldata',\n",
       " 'test',\n",
       " 'train',\n",
       " 'train_and_test.py',\n",
       " 'weights.pt',\n",
       " '__pycache__']"
      ]
     },
     "execution_count": 1,
     "metadata": {},
     "output_type": "execute_result"
    }
   ],
   "source": [
    "import os\n",
    "import numpy as np\n",
    "import pandas as pd\n",
    "\n",
    "import seaborn as sns\n",
    "sns.set()\n",
    "import matplotlib.pyplot as plt\n",
    "%matplotlib inline\n",
    "from PIL import Image\n",
    "from scipy.misc import imread\n",
    "\n",
    "import torch\n",
    "from torch.utils.data import DataLoader, Subset\n",
    "from torchvision import transforms\n",
    "import torch.optim as optim\n",
    "\n",
    "import warnings\n",
    "warnings.filterwarnings(\"ignore\")\n",
    "\n",
    "%reload_ext autoreload\n",
    "%autoreload 2\n",
    "\n",
    "os.listdir('.')"
   ]
  },
  {
   "cell_type": "markdown",
   "metadata": {},
   "source": [
    "### 2.利用pandas查看labels"
   ]
  },
  {
   "cell_type": "code",
   "execution_count": 2,
   "metadata": {},
   "outputs": [
    {
     "name": "stdout",
     "output_type": "stream",
     "text": [
      "(31072, 2)\n"
     ]
    },
    {
     "data": {
      "text/html": [
       "<div>\n",
       "<style scoped>\n",
       "    .dataframe tbody tr th:only-of-type {\n",
       "        vertical-align: middle;\n",
       "    }\n",
       "\n",
       "    .dataframe tbody tr th {\n",
       "        vertical-align: top;\n",
       "    }\n",
       "\n",
       "    .dataframe thead th {\n",
       "        text-align: right;\n",
       "    }\n",
       "</style>\n",
       "<table border=\"1\" class=\"dataframe\">\n",
       "  <thead>\n",
       "    <tr style=\"text-align: right;\">\n",
       "      <th></th>\n",
       "      <th>Id</th>\n",
       "      <th>Target</th>\n",
       "    </tr>\n",
       "  </thead>\n",
       "  <tbody>\n",
       "    <tr>\n",
       "      <th>0</th>\n",
       "      <td>00070df0-bbc3-11e8-b2bc-ac1f6b6435d0</td>\n",
       "      <td>16 0</td>\n",
       "    </tr>\n",
       "    <tr>\n",
       "      <th>1</th>\n",
       "      <td>000a6c98-bb9b-11e8-b2b9-ac1f6b6435d0</td>\n",
       "      <td>7 1 2 0</td>\n",
       "    </tr>\n",
       "    <tr>\n",
       "      <th>2</th>\n",
       "      <td>000a9596-bbc4-11e8-b2bc-ac1f6b6435d0</td>\n",
       "      <td>5</td>\n",
       "    </tr>\n",
       "    <tr>\n",
       "      <th>3</th>\n",
       "      <td>000c99ba-bba4-11e8-b2b9-ac1f6b6435d0</td>\n",
       "      <td>1</td>\n",
       "    </tr>\n",
       "    <tr>\n",
       "      <th>4</th>\n",
       "      <td>001838f8-bbca-11e8-b2bc-ac1f6b6435d0</td>\n",
       "      <td>18</td>\n",
       "    </tr>\n",
       "  </tbody>\n",
       "</table>\n",
       "</div>"
      ],
      "text/plain": [
       "                                     Id   Target\n",
       "0  00070df0-bbc3-11e8-b2bc-ac1f6b6435d0     16 0\n",
       "1  000a6c98-bb9b-11e8-b2b9-ac1f6b6435d0  7 1 2 0\n",
       "2  000a9596-bbc4-11e8-b2bc-ac1f6b6435d0        5\n",
       "3  000c99ba-bba4-11e8-b2b9-ac1f6b6435d0        1\n",
       "4  001838f8-bbca-11e8-b2bc-ac1f6b6435d0       18"
      ]
     },
     "execution_count": 2,
     "metadata": {},
     "output_type": "execute_result"
    }
   ],
   "source": [
    "labels_pd = pd.read_csv('./originaldata/train.csv', sep=',', header=0)\n",
    "print(labels_pd.shape)\n",
    "labels_pd.head()"
   ]
  },
  {
   "cell_type": "code",
   "execution_count": 3,
   "metadata": {},
   "outputs": [],
   "source": [
    "classes_names = {\n",
    "    0:  \"Nucleoplasm\",  \n",
    "    1:  \"Nuclear membrane\",   \n",
    "    2:  \"Nucleoli\",   \n",
    "    3:  \"Nucleoli fibrillar center\",   \n",
    "    4:  \"Nuclear speckles\",\n",
    "    5:  \"Nuclear bodies\",   \n",
    "    6:  \"Endoplasmic reticulum\",   \n",
    "    7:  \"Golgi apparatus\",   \n",
    "    8:  \"Peroxisomes\",   \n",
    "    9:  \"Endosomes\",   \n",
    "    10:  \"Lysosomes\",   \n",
    "    11:  \"Intermediate filaments\",   \n",
    "    12:  \"Actin filaments\",   \n",
    "    13:  \"Focal adhesion sites\",   \n",
    "    14:  \"Microtubules\",   \n",
    "    15:  \"Microtubule ends\",   \n",
    "    16:  \"Cytokinetic bridge\",   \n",
    "    17:  \"Mitotic spindle\",   \n",
    "    18:  \"Microtubule organizing center\",   \n",
    "    19:  \"Centrosome\",   \n",
    "    20:  \"Lipid droplets\",   \n",
    "    21:  \"Plasma membrane\",   \n",
    "    22:  \"Cell junctions\",   \n",
    "    23:  \"Mitochondria\",   \n",
    "    24:  \"Aggresome\",   \n",
    "    25:  \"Cytosol\",   \n",
    "    26:  \"Cytoplasmic bodies\",   \n",
    "    27:  \"Rods & rings\"    \n",
    "}\n",
    "\n",
    "reverse_classes_names = {v:k for k,v in classes_names.items()}"
   ]
  },
  {
   "cell_type": "markdown",
   "metadata": {},
   "source": [
    "#### 添加以蛋白质种类为标签的各列，以0填充，然后将每行的Target所对应的蛋白质种类置1"
   ]
  },
  {
   "cell_type": "code",
   "execution_count": 4,
   "metadata": {},
   "outputs": [
    {
     "data": {
      "text/html": [
       "<div>\n",
       "<style scoped>\n",
       "    .dataframe tbody tr th:only-of-type {\n",
       "        vertical-align: middle;\n",
       "    }\n",
       "\n",
       "    .dataframe tbody tr th {\n",
       "        vertical-align: top;\n",
       "    }\n",
       "\n",
       "    .dataframe thead th {\n",
       "        text-align: right;\n",
       "    }\n",
       "</style>\n",
       "<table border=\"1\" class=\"dataframe\">\n",
       "  <thead>\n",
       "    <tr style=\"text-align: right;\">\n",
       "      <th></th>\n",
       "      <th>Id</th>\n",
       "      <th>Target</th>\n",
       "      <th>Nucleoplasm</th>\n",
       "      <th>Nuclear membrane</th>\n",
       "      <th>Nucleoli</th>\n",
       "      <th>Nucleoli fibrillar center</th>\n",
       "      <th>Nuclear speckles</th>\n",
       "      <th>Nuclear bodies</th>\n",
       "      <th>Endoplasmic reticulum</th>\n",
       "      <th>Golgi apparatus</th>\n",
       "      <th>...</th>\n",
       "      <th>Microtubule organizing center</th>\n",
       "      <th>Centrosome</th>\n",
       "      <th>Lipid droplets</th>\n",
       "      <th>Plasma membrane</th>\n",
       "      <th>Cell junctions</th>\n",
       "      <th>Mitochondria</th>\n",
       "      <th>Aggresome</th>\n",
       "      <th>Cytosol</th>\n",
       "      <th>Cytoplasmic bodies</th>\n",
       "      <th>Rods &amp; rings</th>\n",
       "    </tr>\n",
       "  </thead>\n",
       "  <tbody>\n",
       "    <tr>\n",
       "      <th>0</th>\n",
       "      <td>00070df0-bbc3-11e8-b2bc-ac1f6b6435d0</td>\n",
       "      <td>[16, 0]</td>\n",
       "      <td>1</td>\n",
       "      <td>0</td>\n",
       "      <td>0</td>\n",
       "      <td>0</td>\n",
       "      <td>0</td>\n",
       "      <td>0</td>\n",
       "      <td>0</td>\n",
       "      <td>0</td>\n",
       "      <td>...</td>\n",
       "      <td>0</td>\n",
       "      <td>0</td>\n",
       "      <td>0</td>\n",
       "      <td>0</td>\n",
       "      <td>0</td>\n",
       "      <td>0</td>\n",
       "      <td>0</td>\n",
       "      <td>0</td>\n",
       "      <td>0</td>\n",
       "      <td>0</td>\n",
       "    </tr>\n",
       "    <tr>\n",
       "      <th>1</th>\n",
       "      <td>000a6c98-bb9b-11e8-b2b9-ac1f6b6435d0</td>\n",
       "      <td>[7, 1, 2, 0]</td>\n",
       "      <td>1</td>\n",
       "      <td>1</td>\n",
       "      <td>1</td>\n",
       "      <td>0</td>\n",
       "      <td>0</td>\n",
       "      <td>0</td>\n",
       "      <td>0</td>\n",
       "      <td>1</td>\n",
       "      <td>...</td>\n",
       "      <td>0</td>\n",
       "      <td>0</td>\n",
       "      <td>0</td>\n",
       "      <td>0</td>\n",
       "      <td>0</td>\n",
       "      <td>0</td>\n",
       "      <td>0</td>\n",
       "      <td>0</td>\n",
       "      <td>0</td>\n",
       "      <td>0</td>\n",
       "    </tr>\n",
       "    <tr>\n",
       "      <th>2</th>\n",
       "      <td>000a9596-bbc4-11e8-b2bc-ac1f6b6435d0</td>\n",
       "      <td>[5]</td>\n",
       "      <td>0</td>\n",
       "      <td>0</td>\n",
       "      <td>0</td>\n",
       "      <td>0</td>\n",
       "      <td>0</td>\n",
       "      <td>1</td>\n",
       "      <td>0</td>\n",
       "      <td>0</td>\n",
       "      <td>...</td>\n",
       "      <td>0</td>\n",
       "      <td>0</td>\n",
       "      <td>0</td>\n",
       "      <td>0</td>\n",
       "      <td>0</td>\n",
       "      <td>0</td>\n",
       "      <td>0</td>\n",
       "      <td>0</td>\n",
       "      <td>0</td>\n",
       "      <td>0</td>\n",
       "    </tr>\n",
       "    <tr>\n",
       "      <th>3</th>\n",
       "      <td>000c99ba-bba4-11e8-b2b9-ac1f6b6435d0</td>\n",
       "      <td>[1]</td>\n",
       "      <td>0</td>\n",
       "      <td>1</td>\n",
       "      <td>0</td>\n",
       "      <td>0</td>\n",
       "      <td>0</td>\n",
       "      <td>0</td>\n",
       "      <td>0</td>\n",
       "      <td>0</td>\n",
       "      <td>...</td>\n",
       "      <td>0</td>\n",
       "      <td>0</td>\n",
       "      <td>0</td>\n",
       "      <td>0</td>\n",
       "      <td>0</td>\n",
       "      <td>0</td>\n",
       "      <td>0</td>\n",
       "      <td>0</td>\n",
       "      <td>0</td>\n",
       "      <td>0</td>\n",
       "    </tr>\n",
       "    <tr>\n",
       "      <th>4</th>\n",
       "      <td>001838f8-bbca-11e8-b2bc-ac1f6b6435d0</td>\n",
       "      <td>[18]</td>\n",
       "      <td>0</td>\n",
       "      <td>0</td>\n",
       "      <td>0</td>\n",
       "      <td>0</td>\n",
       "      <td>0</td>\n",
       "      <td>0</td>\n",
       "      <td>0</td>\n",
       "      <td>0</td>\n",
       "      <td>...</td>\n",
       "      <td>1</td>\n",
       "      <td>0</td>\n",
       "      <td>0</td>\n",
       "      <td>0</td>\n",
       "      <td>0</td>\n",
       "      <td>0</td>\n",
       "      <td>0</td>\n",
       "      <td>0</td>\n",
       "      <td>0</td>\n",
       "      <td>0</td>\n",
       "    </tr>\n",
       "  </tbody>\n",
       "</table>\n",
       "<p>5 rows × 30 columns</p>\n",
       "</div>"
      ],
      "text/plain": [
       "                                     Id        Target  Nucleoplasm  \\\n",
       "0  00070df0-bbc3-11e8-b2bc-ac1f6b6435d0       [16, 0]            1   \n",
       "1  000a6c98-bb9b-11e8-b2b9-ac1f6b6435d0  [7, 1, 2, 0]            1   \n",
       "2  000a9596-bbc4-11e8-b2bc-ac1f6b6435d0           [5]            0   \n",
       "3  000c99ba-bba4-11e8-b2b9-ac1f6b6435d0           [1]            0   \n",
       "4  001838f8-bbca-11e8-b2bc-ac1f6b6435d0          [18]            0   \n",
       "\n",
       "   Nuclear membrane  Nucleoli  Nucleoli fibrillar center  Nuclear speckles  \\\n",
       "0                 0         0                          0                 0   \n",
       "1                 1         1                          0                 0   \n",
       "2                 0         0                          0                 0   \n",
       "3                 1         0                          0                 0   \n",
       "4                 0         0                          0                 0   \n",
       "\n",
       "   Nuclear bodies  Endoplasmic reticulum  Golgi apparatus      ...       \\\n",
       "0               0                      0                0      ...        \n",
       "1               0                      0                1      ...        \n",
       "2               1                      0                0      ...        \n",
       "3               0                      0                0      ...        \n",
       "4               0                      0                0      ...        \n",
       "\n",
       "   Microtubule organizing center  Centrosome  Lipid droplets  Plasma membrane  \\\n",
       "0                              0           0               0                0   \n",
       "1                              0           0               0                0   \n",
       "2                              0           0               0                0   \n",
       "3                              0           0               0                0   \n",
       "4                              1           0               0                0   \n",
       "\n",
       "   Cell junctions  Mitochondria  Aggresome  Cytosol  Cytoplasmic bodies  \\\n",
       "0               0             0          0        0                   0   \n",
       "1               0             0          0        0                   0   \n",
       "2               0             0          0        0                   0   \n",
       "3               0             0          0        0                   0   \n",
       "4               0             0          0        0                   0   \n",
       "\n",
       "   Rods & rings  \n",
       "0             0  \n",
       "1             0  \n",
       "2             0  \n",
       "3             0  \n",
       "4             0  \n",
       "\n",
       "[5 rows x 30 columns]"
      ]
     },
     "execution_count": 4,
     "metadata": {},
     "output_type": "execute_result"
    }
   ],
   "source": [
    "def fill_targets(row):\n",
    "    row.Target = row.Target.split(' ')\n",
    "    for i in row.Target:\n",
    "        row[classes_names[int(i)]] = 1\n",
    "    return row\n",
    "\n",
    "for i in classes_names.values():   # 以0填充各列\n",
    "    labels_pd[i] = 0\n",
    "    \n",
    "labels_pd = labels_pd.apply(fill_targets, axis=1)  # 置1\n",
    "labels_pd.head()"
   ]
  },
  {
   "cell_type": "markdown",
   "metadata": {},
   "source": [
    "#### 显示每个标签出现的次数"
   ]
  },
  {
   "cell_type": "code",
   "execution_count": null,
   "metadata": {},
   "outputs": [],
   "source": [
    "classes_counts = labels_pd.drop(['Id', 'Target'], axis=1).sum(axis='index').sort_values(ascending=False)\n",
    "fig1 = plt.figure(figsize=(10,6))\n",
    "sns.barplot(y=classes_counts.index, x=classes_counts.values)"
   ]
  },
  {
   "cell_type": "markdown",
   "metadata": {},
   "source": [
    "#### 显示每个样本包含的标签数量分布"
   ]
  },
  {
   "cell_type": "code",
   "execution_count": null,
   "metadata": {},
   "outputs": [],
   "source": [
    "num_targets_per_sample = labels_pd.drop(['Id', 'Target'], axis=1).sum(axis=1)\n",
    "num_target_counts = num_targets_per_sample.value_counts()\n",
    "num_traget_per = num_target_counts / num_targets_per_sample.shape[0] * 100.0\n",
    "fig2 = plt.figure(figsize=(10, 3))\n",
    "plt.xlabel('Num of Targets per Image')\n",
    "plt.ylabel('Percentage of Dataset')\n",
    "sns.barplot(num_traget_per.index, num_traget_per.values, palette='Blues')"
   ]
  },
  {
   "cell_type": "markdown",
   "metadata": {},
   "source": [
    "#### 显示各类同时出现的关系热力图"
   ]
  },
  {
   "cell_type": "code",
   "execution_count": null,
   "metadata": {},
   "outputs": [],
   "source": [
    "fig3 = plt.figure(figsize=(8,6)) \n",
    "sns.heatmap(labels_pd[num_targets_per_sample>1].drop(['Id','Target'], axis=1).corr(),\n",
    "            vmin=-1, vmax=1, cmap='RdYlBu')"
   ]
  },
  {
   "cell_type": "markdown",
   "metadata": {},
   "source": [
    "#### 显示关系较大的几组类别\n",
    "#### Lysosomes and endosomes"
   ]
  },
  {
   "cell_type": "code",
   "execution_count": null,
   "metadata": {},
   "outputs": [],
   "source": [
    "def find_counts(target, label_frame):\n",
    "    target_frame = label_frame[label_frame[target] == 1].drop(['Id','Target'], axis='columns')\n",
    "    target_counts = target_frame.sum(axis=0)\n",
    "    target_counts = target_counts[target_counts>0]\n",
    "    target_counts = target_counts.sort_values(ascending=False)\n",
    "    return target_counts"
   ]
  },
  {
   "cell_type": "code",
   "execution_count": null,
   "metadata": {},
   "outputs": [],
   "source": [
    "Lysosomes_counts = find_counts('Lysosomes', labels_pd)\n",
    "print(Lysosomes_counts)\n",
    "fig4 = plt.figure(figsize=(6,3))\n",
    "sns.barplot(Lysosomes_counts.index, Lysosomes_counts.values, palette='Reds_r')\n",
    "# 结果说明 Lysosomes和 Endosomes总是同时出现，完全相关"
   ]
  },
  {
   "cell_type": "markdown",
   "metadata": {},
   "source": [
    "#### Rods and rings"
   ]
  },
  {
   "cell_type": "code",
   "execution_count": null,
   "metadata": {},
   "outputs": [],
   "source": [
    "Rods_rings_counts = find_counts('Rods & rings', labels_pd)\n",
    "fig5 = plt.figure(figsize=(12,3))\n",
    "sns.barplot(Rods_rings_counts.index, Rods_rings_counts.values, palette='Greens_r')"
   ]
  },
  {
   "cell_type": "markdown",
   "metadata": {},
   "source": [
    "#### Microtubule ends"
   ]
  },
  {
   "cell_type": "code",
   "execution_count": null,
   "metadata": {},
   "outputs": [],
   "source": [
    "Microtubule_ends_counts = find_counts('Microtubule ends', labels_pd)\n",
    "fig6 = plt.figure(figsize=(9,3))\n",
    "sns.barplot(Microtubule_ends_counts.index, Microtubule_ends_counts.values, palette='Blues_r')"
   ]
  },
  {
   "cell_type": "markdown",
   "metadata": {},
   "source": [
    "#### Peroxisomes"
   ]
  },
  {
   "cell_type": "code",
   "execution_count": null,
   "metadata": {},
   "outputs": [],
   "source": [
    "Peroxisomes_counts = find_counts('Peroxisomes', labels_pd)\n",
    "fig7 = plt.figure(figsize=(12,3))\n",
    "sns.barplot(Peroxisomes_counts.index, Peroxisomes_counts.values, palette='Purples_r')"
   ]
  },
  {
   "cell_type": "markdown",
   "metadata": {},
   "source": [
    "#### Cytokinetic bridge"
   ]
  },
  {
   "cell_type": "code",
   "execution_count": null,
   "metadata": {},
   "outputs": [],
   "source": [
    "Cytokinetic_bridge_counts = find_counts('Cytokinetic bridge', labels_pd)\n",
    "fig8 = plt.figure(figsize=(15,3))\n",
    "sns.barplot(Cytokinetic_bridge_counts.index, Cytokinetic_bridge_counts.values, palette='Oranges_r')\n",
    "plt.xticks(rotation=70)"
   ]
  },
  {
   "cell_type": "markdown",
   "metadata": {},
   "source": [
    "### 3. 查看数据集图像"
   ]
  },
  {
   "cell_type": "code",
   "execution_count": null,
   "metadata": {},
   "outputs": [],
   "source": [
    "files = os.listdir('./train')\n",
    "for i in files[:10]:\n",
    "    print(i)\n",
    "    \n",
    "print(len(files)/4)"
   ]
  },
  {
   "cell_type": "code",
   "execution_count": null,
   "metadata": {
    "scrolled": false
   },
   "outputs": [],
   "source": [
    "def show_whole_img(idx, label_frame, path='./train'):\n",
    "    img_id = label_frame.loc[idx].Id\n",
    "    path_prefix = os.path.join(path, img_id)\n",
    "    path_suffix = ['_blue.png', '_green.png', '_red.png', '_yellow.png']\n",
    "    labels = label_frame.loc[idx].Target\n",
    "    title = '+'.join([classes_names[int(label)] for label in labels])\n",
    "    img = np.zeros((512, 512, 4))\n",
    "    for i in range(4):\n",
    "        img[:,:,i] = plt.imread(path_prefix+path_suffix[i])\n",
    "    _, (ax1, ax2, ax3, ax4) = plt.subplots(1,4,True,True,figsize=(15,5))\n",
    "    ax1.imshow(img[:,:,0], cmap='Blues')\n",
    "    ax1.set_title('stained nucleus')\n",
    "    ax2.imshow(img[:,:,1], cmap='Greens')\n",
    "    ax2.set_title(title)\n",
    "    ax3.imshow(img[:,:,2], cmap='Reds')\n",
    "    ax3.set_title('stained microtubules')\n",
    "    ax4.imshow(img[:,:,3], cmap='Oranges')\n",
    "    ax4.set_title('stained endoplasmatic reticulum')\n",
    "    return img_id, img\n",
    "    \n",
    "imgpick_id, imgpick = show_whole_img(100, labels_pd)\n",
    "print(f'Id is {imgpick_id}')\n",
    "figy = plt.figure(figsize=(4,5))\n",
    "plt.imshow(imgpick)  # 直接显示img0, 会mask掉第0层，即blue层"
   ]
  },
  {
   "cell_type": "markdown",
   "metadata": {},
   "source": [
    "### 4.定义、加载数据集\n",
    "- 利用k折交叉验证"
   ]
  },
  {
   "cell_type": "markdown",
   "metadata": {},
   "source": [
    "#### 预定义一些Hyperparameters"
   ]
  },
  {
   "cell_type": "code",
   "execution_count": 5,
   "metadata": {},
   "outputs": [],
   "source": [
    "# ----------------------------------------------------------------------------------------------------------------\n",
    "N_Splits = 3\n",
    "N_Repeats = 3\n",
    "BS = 128\n",
    "NUM_Workers = 0\n",
    "DEVICE = torch.device('cuda:0' if torch.cuda.is_available() else 'cpu')\n",
    "PATH_Train = './train'\n",
    "PATH_Test = './test'\n",
    "PATH_Ckp = './checkpoint'\n",
    "FILENAME_Sub = './mysub.csv'\n",
    "WEIGHT = (1.0/(torch.from_numpy(labels_pd[labels_pd.columns[2:]].sum(axis=0).values.astype(np.float32)))).pow_(0.5)\n",
    "GAMMA = 2  # focusing parameter for focal loss\n",
    "LR = 0.001\n",
    "WEIGHT_Decay = 0.0005\n",
    "MOMENTUM =0.9\n",
    "EPOCH = 50\n",
    "EPOCH_Saveckp = 25\n",
    "# ----------------------------------------------------------------------------------------------------------------"
   ]
  },
  {
   "cell_type": "markdown",
   "metadata": {},
   "source": [
    "#### a. 设置k折和重复次数"
   ]
  },
  {
   "cell_type": "code",
   "execution_count": 6,
   "metadata": {},
   "outputs": [
    {
     "name": "stdout",
     "output_type": "stream",
     "text": [
      "Percentage of test / train:       37.7%\n"
     ]
    }
   ],
   "source": [
    "print(f\"Percentage of test / train: \\\n",
    "      {len(os.listdir('./test'))/len(os.listdir('./train'))*100:2.1f}%\")\n",
    "\n",
    "# 由于测试集大小为训练集的约1/3，故选择 k=3\n",
    "from sklearn.model_selection import RepeatedKFold\n",
    "splitter = RepeatedKFold(n_splits=N_Splits, n_repeats=N_Repeats, random_state=None)"
   ]
  },
  {
   "cell_type": "code",
   "execution_count": 7,
   "metadata": {
    "scrolled": false
   },
   "outputs": [
    {
     "name": "stdout",
     "output_type": "stream",
     "text": [
      "Train: [    0     1     2 ... 31068 31069 31070], Val: [    4     6     8 ... 31058 31059 31071]\n",
      "Train: 20714, Val: 10358\n",
      "Train: [    1     2     4 ... 31067 31070 31071], Val: [    0     3     5 ... 31066 31068 31069]\n",
      "Train: 20715, Val: 10357\n",
      "Train: [    0     3     4 ... 31068 31069 31071], Val: [    1     2     7 ... 31064 31067 31070]\n",
      "Train: 20715, Val: 10357\n",
      "Train: [    0     2     3 ... 31067 31068 31070], Val: [    1     5    19 ... 31058 31069 31071]\n",
      "Train: 20714, Val: 10358\n",
      "Train: [    1     2     3 ... 31068 31069 31071], Val: [    0     4     6 ... 31064 31066 31070]\n",
      "Train: 20715, Val: 10357\n",
      "Train: [    0     1     4 ... 31069 31070 31071], Val: [    2     3     8 ... 31065 31067 31068]\n",
      "Train: 20715, Val: 10357\n",
      "Train: [    0     1     3 ... 31068 31069 31071], Val: [    2     6     9 ... 31064 31067 31070]\n",
      "Train: 20714, Val: 10358\n",
      "Train: [    1     2     3 ... 31068 31069 31070], Val: [    0     5     8 ... 31065 31066 31071]\n",
      "Train: 20715, Val: 10357\n",
      "Train: [    0     2     5 ... 31067 31070 31071], Val: [    1     3     4 ... 31061 31068 31069]\n",
      "Train: 20715, Val: 10357\n"
     ]
    }
   ],
   "source": [
    "patitions = []\n",
    "for train, val in splitter.split(labels_pd.index.values):\n",
    "    patition = {'train': train, \n",
    "                'val': val}\n",
    "    patitions.append(patition)\n",
    "    \n",
    "    print(f'Train: {train}, Val: {val}')\n",
    "    print(f'Train: {len(train)}, Val: {len(val)}')\n",
    "\n",
    "# print(patitions[0]['train'][:5])"
   ]
  },
  {
   "cell_type": "markdown",
   "metadata": {},
   "source": [
    "#### b.读入训练和测试数据集，按照k折和重复次数划分数据集"
   ]
  },
  {
   "cell_type": "code",
   "execution_count": 8,
   "metadata": {},
   "outputs": [
    {
     "name": "stdout",
     "output_type": "stream",
     "text": [
      "9\n",
      "162\n",
      "11702\n",
      "92\n"
     ]
    }
   ],
   "source": [
    "from HPA_dataset import *\n",
    "\n",
    "TRANS = transforms.Compose([\n",
    "    Scale(256),\n",
    "    RandomColor(0.1,0.2,0.1,0.1),\n",
    "    RandomRotate(10),\n",
    "    RandomCrop(224),\n",
    "    totensor(),\n",
    "    transforms.Normalize(mean=[0.485, 0.456, 0.406, 0.406],\n",
    "                         std=[0.229, 0.224, 0.225, 0.225])])\n",
    "\n",
    "# ------------------------train and val set-----------------------------\n",
    "HPA_total_train = HPAdata_train(labels_pd, PATH_Train, transform=TRANS)\n",
    "\n",
    "trainsets = []\n",
    "valsets = []\n",
    "for patition in patitions:\n",
    "    train = Subset(HPA_total_train, patition['train'])\n",
    "    val = Subset(HPA_total_train, patition['val'])\n",
    "    trainsets.append(train)\n",
    "    valsets.append(val)\n",
    "\n",
    "trainloaders = []\n",
    "valloaders = []\n",
    "for i in range(len(trainsets)):\n",
    "    trainloader = DataLoader(trainsets[i], batch_size=BS, shuffle=True, num_workers=NUM_Workers)\n",
    "    valloader = DataLoader(valsets[i], batch_size=BS, shuffle=True, num_workers=NUM_Workers)\n",
    "    trainloaders.append(trainloader)\n",
    "    valloaders.append(valloader)\n",
    "    \n",
    "print(len(trainloaders))\n",
    "print(len(trainloaders[1]))\n",
    "\n",
    "# ------------------------test set-----------------------------\n",
    "testset = HPAdata_test(PATH_Test, transform=TRANS)\n",
    "testloader = DataLoader(testset, shuffle=False, batch_size=BS, num_workers=NUM_Workers)\n",
    "\n",
    "print(len(testset))\n",
    "print(len(testloader))"
   ]
  },
  {
   "cell_type": "markdown",
   "metadata": {},
   "source": [
    "#### c. 加载CNN模型和自定义损失函数\n",
    "- Resnet19的迁移学习, 所有参数均参与训练\n",
    "- Focal loss\n",
    "- 设置optimizer和scheduler"
   ]
  },
  {
   "cell_type": "code",
   "execution_count": 9,
   "metadata": {},
   "outputs": [],
   "source": [
    "from model_and_loss import *\n",
    "\n",
    "model = HPA_Res18()\n",
    "criterion = FocalLoss_Plus(gamma=GAMMA, weight=WEIGHT)\n",
    "optimizer = optim.SGD(model.parameters(), lr=LR, momentum=MOMENTUM, weight_decay=WEIGHT_Decay)\n",
    "scheduler = optim.lr_scheduler.ReduceLROnPlateau(optimizer)"
   ]
  },
  {
   "cell_type": "markdown",
   "metadata": {},
   "source": [
    "#### d. 训练并记录loss和acc等\n",
    "- 共训练 3*3次\n",
    "- 每次epoch=50"
   ]
  },
  {
   "cell_type": "code",
   "execution_count": 10,
   "metadata": {},
   "outputs": [],
   "source": [
    "from train_and_test import *"
   ]
  },
  {
   "cell_type": "code",
   "execution_count": 11,
   "metadata": {},
   "outputs": [
    {
     "name": "stdout",
     "output_type": "stream",
     "text": [
      "Loop 1/2 processing...\n",
      "epoch 1... done\n",
      "epoch 2... done\n",
      "saving checkpoint-loop1_epoch2... done\n",
      "Loop 1/2 finished! Time used: 28.8s\n",
      "loss: 0.08, acc: 0.200\n",
      "------------------------------\n",
      "Loop 2/2 processing...\n",
      "epoch 1... done\n",
      "epoch 2... done\n",
      "saving checkpoint-loop2_epoch2... done\n",
      "Loop 2/2 finished! Time used: 28.4s\n",
      "loss: 0.06, acc: 0.200\n",
      "------------------------------\n",
      "Total time used: 57.7s\n"
     ]
    },
    {
     "data": {
      "image/png": "[encoded data removed]",
      "text/plain": [
       "<Figure size 1080x360 with 1 Axes>"
      ]
     },
     "metadata": {
      "needs_background": "light"
     },
     "output_type": "display_data"
    },
    {
     "data": {
      "image/png": "[encoded data removed]",
      "text/plain": [
       "<Figure size 1080x360 with 1 Axes>"
      ]
     },
     "metadata": {
      "needs_background": "light"
     },
     "output_type": "display_data"
    }
   ],
   "source": [
    "# this block is to define a small subset for testing if train_model could be normaly implemented.\n",
    "train_try = [Subset(HPA_total_train, range(20)), Subset(HPA_total_train, range(20, 40))]\n",
    "val_try = [Subset(HPA_total_train, range(40,50)), Subset(HPA_total_train, range(50, 60))]\n",
    "trainloader_try = [DataLoader(train_try[0], batch_size=4, shuffle=True, num_workers=NUM_Workers), \n",
    "                   DataLoader(train_try[1], batch_size=4, shuffle=True, num_workers=NUM_Workers)]\n",
    "valloader_try = [DataLoader(val_try[0], batch_size=4, shuffle=True, num_workers=NUM_Workers), \n",
    "                 DataLoader(val_try[1], batch_size=4, shuffle=True, num_workers=NUM_Workers)]\n",
    "\n",
    "History = train_model(trainloader = trainloader_try, \n",
    "                      valloader = valloader_try, \n",
    "                      model = model, \n",
    "                      optimizer = optimizer, \n",
    "                      criterion = criterion, \n",
    "                      scheduler = scheduler, \n",
    "                      epochs=2, device=DEVICE, history=Epoch_History(), ckp_path=PATH_Ckp, ckp_savestep=2)\n",
    "\n",
    "History.plot_history()"
   ]
  },
  {
   "cell_type": "code",
   "execution_count": null,
   "metadata": {
    "scrolled": false
   },
   "outputs": [],
   "source": [
    "# training the whole dataset\n",
    "# History = train_model(trainloader = trainloaders, \n",
    "#                       valloader = valloaders, \n",
    "#                       model = model, \n",
    "#                       optimizer = optimizer, \n",
    "#                       criterion = criterion, \n",
    "#                       scheduler = scheduler, \n",
    "#                       epochs=EPOCH, device=DEVICE, history=Epoch_History(), ckp_path=PATH_Ckp, ckp_savestep=EPOCH_Saveckp)\n",
    "\n",
    "# History.plot_history()"
   ]
  },
  {
   "cell_type": "markdown",
   "metadata": {},
   "source": [
    "#### e. 测试并保存csv文件"
   ]
  },
  {
   "cell_type": "code",
   "execution_count": 12,
   "metadata": {},
   "outputs": [
    {
     "name": "stdout",
     "output_type": "stream",
     "text": [
      "Testing ...\n",
      "25% done ...\n",
      "50% done ...\n",
      "75% done ...\n",
      "Test Finished! Time used: 7.4s\n"
     ]
    }
   ],
   "source": [
    "# this block is to test a small subset of testset, checking test_model function\n",
    "testset_try = Subset(testset, range(20))\n",
    "testloader_try = DataLoader(testset_try, batch_size=2, shuffle=False, num_workers=NUM_Workers)\n",
    "\n",
    "model = HPA_Res18()\n",
    "model.load_state_dict(torch.load('./weights.pt'))\n",
    "results_dict = test_model(testloader_try, model, device=DEVICE, results_filename=FILENAME_Sub)"
   ]
  },
  {
   "cell_type": "code",
   "execution_count": null,
   "metadata": {},
   "outputs": [],
   "source": [
    "# model = HPA_Res18()\n",
    "# model = model.load_state_dict(torch.load('./weights.pt'))\n",
    "# results_dict = test_model(testloader, model, device=DEVICE, results_filename=FILENAME_Sub)"
   ]
  },
  {
   "cell_type": "markdown",
   "metadata": {},
   "source": [
    "## 以下为一些练习和测试代码，可删"
   ]
  },
  {
   "cell_type": "code",
   "execution_count": null,
   "metadata": {},
   "outputs": [],
   "source": [
    "os.path.exists('./checkpoint')"
   ]
  },
  {
   "cell_type": "code",
   "execution_count": null,
   "metadata": {},
   "outputs": [],
   "source": [
    "a = [1,2,3,4,5,6,7]\n",
    "a[::2]"
   ]
  },
  {
   "cell_type": "code",
   "execution_count": null,
   "metadata": {
    "scrolled": true
   },
   "outputs": [],
   "source": [
    "result_dict = {'id':(1,2,3,4),'labels':[3,4,5,6]}\n",
    "result_df = pd.DataFrame(result_dict)\n",
    "result_df.to_csv('./try.csv', index=False)\n",
    "result_df"
   ]
  },
  {
   "cell_type": "code",
   "execution_count": null,
   "metadata": {},
   "outputs": [],
   "source": [
    "a = next(iter(testloader))"
   ]
  },
  {
   "cell_type": "code",
   "execution_count": null,
   "metadata": {
    "scrolled": true
   },
   "outputs": [],
   "source": [
    "a[0]"
   ]
  },
  {
   "cell_type": "code",
   "execution_count": null,
   "metadata": {},
   "outputs": [],
   "source": [
    "def gen_results(input):\n",
    "    preds = (input>0.5).to(torch.int32)\n",
    "    preds_labels = [[j for j in range(preds.shape[1]) if preds[i,j]==1] for i in range(preds.shape[0])]\n",
    "    labels = [' '.join(map(lambda x: str(x), i)) for i in preds_labels]\n",
    "    return labels"
   ]
  },
  {
   "cell_type": "code",
   "execution_count": null,
   "metadata": {},
   "outputs": [],
   "source": [
    "try_tensor = torch.rand((10,3))\n",
    "print(try_tensor)\n",
    "labels_try  = gen_results(try_tensor)\n",
    "print(labels_try)"
   ]
  },
  {
   "cell_type": "code",
   "execution_count": null,
   "metadata": {},
   "outputs": [],
   "source": [
    "o = next(iter(testloader_try))\n",
    "oo = model(o[1])"
   ]
  },
  {
   "cell_type": "code",
   "execution_count": null,
   "metadata": {},
   "outputs": [],
   "source": [
    "oo"
   ]
  },
  {
   "cell_type": "code",
   "execution_count": null,
   "metadata": {},
   "outputs": [],
   "source": [
    "gen_results(oo)"
   ]
  },
  {
   "cell_type": "code",
   "execution_count": null,
   "metadata": {},
   "outputs": [],
   "source": []
  }
 ],
 "metadata": {
  "kernelspec": {
   "display_name": "Python 3",
   "language": "python",
   "name": "python3"
  },
  "language_info": {
   "codemirror_mode": {
    "name": "ipython",
    "version": 3
   },
   "file_extension": ".py",
   "mimetype": "text/x-python",
   "name": "python",
   "nbconvert_exporter": "python",
   "pygments_lexer": "ipython3",
   "version": "3.6.2"
  }
 },
 "nbformat": 4,
 "nbformat_minor": 2
}
